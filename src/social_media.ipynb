{
 "cells": [
  {
   "cell_type": "code",
   "execution_count": null,
   "id": "518d9a09-c912-426a-ae8c-9523b64c2c3d",
   "metadata": {},
   "outputs": [],
   "source": [
    "import findspark\n",
    "findspark.init()\n",
    "from pyspark.sql import SparkSession\n",
    "from pyspark.sql.functions import *\n",
    "from pyspark.sql.types import *"
   ]
  },
  {
   "cell_type": "code",
   "execution_count": null,
   "id": "91ecefc2-71b6-4b0e-8222-586964c5913c",
   "metadata": {},
   "outputs": [],
   "source": [
    "spark = SparkSession.builder.appName(\"Social Media\").getOrCreate()"
   ]
  },
  {
   "cell_type": "code",
   "execution_count": null,
   "id": "0a5c4b44-b33c-46c8-95dc-13e230095c51",
   "metadata": {},
   "outputs": [],
   "source": [
    "users_df = spark.read.csv(\"../data/users.csv\", inferSchema=True, header=True)\n",
    "posts_df = spark.read.csv(\"../data/posts.csv\", inferSchema=True, header=True)\n",
    "comments_df = spark.read.csv(\"../data/comments.csv\", inferSchema=True, header=True)"
   ]
  },
  {
   "cell_type": "code",
   "execution_count": null,
   "id": "64ddaee7-c3f4-4afd-9ae5-05f2675c8dd7",
   "metadata": {},
   "outputs": [],
   "source": [
    "users_df.show(5)\n",
    "posts_df.show(5)\n",
    "comments_df.show(5)"
   ]
  },
  {
   "cell_type": "markdown",
   "id": "2ea7a30b-2260-4a5a-ad7d-a1c38801965b",
   "metadata": {},
   "source": [
    "### Analysis\n",
    "- Find the total number of users from each country.\n",
    "- Find the top 5 users with the highest number of posts."
   ]
  },
  {
   "cell_type": "code",
   "execution_count": null,
   "id": "d542d1c7-bb82-4b9d-9edf-9c4a604e9209",
   "metadata": {},
   "outputs": [],
   "source": [
    "# Total number of users from each country\n",
    "users_df.groupBy(\"country\").agg(count(\"user_id\").alias(\"Total Users\")).show()"
   ]
  },
  {
   "cell_type": "code",
   "execution_count": null,
   "id": "10304e4f-f29d-41af-8aea-24fd89c4cc4f",
   "metadata": {},
   "outputs": [],
   "source": [
    "# Top 5 users with the highest number of posts\n",
    "posts_df.groupBy(\"user_id\").agg(count(\"post_id\").alias(\"Posts Number\")) \\\n",
    "    .orderBy(col(\"Posts Number\").desc()).limit(5). \\\n",
    "    show()"
   ]
  },
  {
   "cell_type": "markdown",
   "id": "642225dd-9542-4c71-b2cd-24d68fb9de6b",
   "metadata": {},
   "source": [
    "### Join and Filtering:\n",
    "- Join the posts and users tables to create a new DataFrame (postsWithUsersDF) containing information about each post along with the user details.\n",
    "- Filter the postsWithUsersDF to include only posts with more than 100 likes."
   ]
  },
  {
   "cell_type": "code",
   "execution_count": null,
   "id": "29f840bd-09ca-437d-9571-b72a6062f577",
   "metadata": {},
   "outputs": [],
   "source": [
    "posts_with_users_df = posts_df.join(users_df, posts_df.user_id == users_df.user_id, \"inner\")"
   ]
  },
  {
   "cell_type": "code",
   "execution_count": null,
   "id": "8f6c33ce-3fda-42ea-8996-5f7ee6cf6b24",
   "metadata": {},
   "outputs": [],
   "source": [
    "posts_with_users_df.filter(col(\"likes\") > 100).show()"
   ]
  },
  {
   "cell_type": "markdown",
   "id": "76d30268-f19d-4e9a-a3c9-7e0ca3988a38",
   "metadata": {},
   "source": [
    "#### Date Manipulation:\n",
    "- Convert the post_date and comment_date columns in the posts and comments tables to DateType.\n",
    "- Find the average number of comments per post for each user."
   ]
  },
  {
   "cell_type": "code",
   "execution_count": null,
   "id": "6a55cf29-3c40-4123-a9db-52d4092e52a5",
   "metadata": {},
   "outputs": [],
   "source": [
    "posts_df = posts_df.withColumn(\"post_date\", to_date(col(\"post_date\"), \"M/d/yyyy\"))\n",
    "comments_df = comments_df.withColumn(\"comment_date\", to_date(col(\"comment_date\"), \"M/d/yyyy\"))"
   ]
  },
  {
   "cell_type": "code",
   "execution_count": null,
   "id": "23e8bf5f-4b43-4420-b83d-a423796e3ddf",
   "metadata": {},
   "outputs": [],
   "source": [
    "posts_df.groupBy(\"user_id\").agg(round(avg(\"comments\"), 2).alias(\"Comments per Post\")).show()"
   ]
  },
  {
   "cell_type": "markdown",
   "id": "61a178fa-08b8-4e5e-9078-e9a92f35b2ac",
   "metadata": {},
   "source": [
    "#### Advanced Analysis:\n",
    "- Use Spark DataFrame operations to calculate the total number of comments for each user.\n",
    "- Find the user with the highest average likes per post."
   ]
  },
  {
   "cell_type": "code",
   "execution_count": null,
   "id": "c6570600-1d40-4252-ab99-4b82427e8e9e",
   "metadata": {},
   "outputs": [],
   "source": [
    "# Total number of comments for each user\n",
    "comments_df.groupBy(\"user_id\").agg(count(\"comment_id\").alias(\"Number of Comments\")).show()"
   ]
  },
  {
   "cell_type": "code",
   "execution_count": null,
   "id": "400f4717-261c-42be-996b-6ade29f37d04",
   "metadata": {},
   "outputs": [],
   "source": [
    "# The user with the highest average likes per post\n",
    "posts_df.groupBy(\"user_id\").agg(round(avg(\"likes\"), 2).alias(\"Like Average\")).orderBy(col(\"Like Average\").desc()).limit(1).show()"
   ]
  }
 ],
 "metadata": {
  "kernelspec": {
   "display_name": "Python 3 (ipykernel)",
   "language": "python",
   "name": "python3"
  },
  "language_info": {
   "codemirror_mode": {
    "name": "ipython",
    "version": 3
   },
   "file_extension": ".py",
   "mimetype": "text/x-python",
   "name": "python",
   "nbconvert_exporter": "python",
   "pygments_lexer": "ipython3",
   "version": "3.11.4"
  }
 },
 "nbformat": 4,
 "nbformat_minor": 5
}
