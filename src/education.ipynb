{
 "cells": [
  {
   "cell_type": "code",
   "execution_count": null,
   "id": "1c8f073e-d183-4a27-9b70-d4111d673a5d",
   "metadata": {},
   "outputs": [],
   "source": [
    "from pyspark.sql import SparkSession\n",
    "from pyspark.sql.functions import *\n",
    "from pyspark.sql.types import *"
   ]
  },
  {
   "cell_type": "code",
   "execution_count": null,
   "id": "213abfa3-2ecf-4ae2-8ad6-d77a6dc6f458",
   "metadata": {},
   "outputs": [],
   "source": [
    "spark = SparkSession.builder.appName(\"Education\").getOrCreate()"
   ]
  },
  {
   "cell_type": "code",
   "execution_count": null,
   "id": "1aa498be-907a-4d97-aed6-bf45ff9aca94",
   "metadata": {},
   "outputs": [],
   "source": [
    "students_df = spark.read.csv(\"../data/students.csv\", inferSchema=True, header=True)\n",
    "courses_df = spark.read.csv(\"../data/courses.csv\", inferSchema=True, header=True)\n",
    "grades_df = spark.read.csv(\"../data/grades.csv\", inferSchema=True, header=True)"
   ]
  },
  {
   "cell_type": "code",
   "execution_count": null,
   "id": "f9632998-a6a2-4c28-8f0e-08aa183d05ac",
   "metadata": {},
   "outputs": [],
   "source": [
    "students_df.show(5)\n",
    "courses_df.show(5)\n",
    "grades_df.show(5)"
   ]
  },
  {
   "cell_type": "markdown",
   "id": "52fbffa1-3de8-47d5-af22-d16172bc516d",
   "metadata": {},
   "source": [
    "#### Analysis:\n",
    "- Find the average grade for each course.\n",
    "- Use DataFrame operations to find the top 3 students with the highest average grades."
   ]
  },
  {
   "cell_type": "code",
   "execution_count": null,
   "id": "82bd4735-d26f-428c-88da-c966e010b5a4",
   "metadata": {},
   "outputs": [],
   "source": [
    "# The average grade for each course \n",
    "grades_df.groupBy(\"course_id\").agg(round(avg(\"grade\"), 2).alias(\"Average Grade\")).show()"
   ]
  },
  {
   "cell_type": "code",
   "execution_count": null,
   "id": "b8219ba0-d23b-4052-a966-b44d186ae545",
   "metadata": {},
   "outputs": [],
   "source": [
    "# Top 3 students with the highest average grades\n",
    "grades_df.groupBy(\"student_id\"). \\\n",
    "    agg(round(avg(\"grade\"), 2).alias(\"Average Grade\")) \\\n",
    "    .orderBy(col(\"Average Grade\").desc()).limit(3).show()"
   ]
  },
  {
   "cell_type": "markdown",
   "id": "dac3fb61-f2d1-49d6-bf45-649bea53b3bf",
   "metadata": {},
   "source": [
    "#### Join and Filtering:\n",
    "- Join the grades and courses tables to create a new DataFrame (gradesWithCoursesDF) containing information about each student's grade along with the course details.\n",
    "- Filter the gradesWithCoursesDF to include only students who scored below 70."
   ]
  },
  {
   "cell_type": "code",
   "execution_count": null,
   "id": "d54de27b-ce07-4bc6-a2f0-223dee9ab349",
   "metadata": {},
   "outputs": [],
   "source": [
    "grades_with_courses_df = grades_df.join(courses_df, grades_df.course_id == courses_df.course_id,\"inner\")"
   ]
  },
  {
   "cell_type": "code",
   "execution_count": null,
   "id": "070e3197-cb92-46d2-8690-fad4316c5dde",
   "metadata": {},
   "outputs": [],
   "source": [
    "grades_with_courses_df.filter(col(\"grade\") < 70).show()"
   ]
  },
  {
   "cell_type": "markdown",
   "id": "03b9342b-376e-4dc0-9e7d-1c8c241cf98f",
   "metadata": {},
   "source": [
    "#### Date Manipulation:\n",
    "- Convert the date_of_birth column in the students table to DateType.\n",
    "- Find the instructor with the highest average student grades"
   ]
  },
  {
   "cell_type": "code",
   "execution_count": null,
   "id": "d6a10074-ea47-41c8-a895-1e5f82038ccd",
   "metadata": {},
   "outputs": [],
   "source": [
    "students_df = students_df.withColumn(\"date_of_birth\", to_date(\"date_of_birth\", \"yyyy-m-d\"))"
   ]
  },
  {
   "cell_type": "code",
   "execution_count": null,
   "id": "6ef28611-0a32-47b8-a519-94f0e0a4408d",
   "metadata": {},
   "outputs": [],
   "source": [
    "grades_with_courses_df.groupBy(\"instructor\") \\\n",
    "    .agg(avg(\"grade\").alias(\"Average Grade\")) \\\n",
    "    .orderBy(col(\"Average Grade\").desc()).limit(1).show()"
   ]
  }
 ],
 "metadata": {
  "kernelspec": {
   "display_name": "Python 3 (ipykernel)",
   "language": "python",
   "name": "python3"
  },
  "language_info": {
   "codemirror_mode": {
    "name": "ipython",
    "version": 3
   },
   "file_extension": ".py",
   "mimetype": "text/x-python",
   "name": "python",
   "nbconvert_exporter": "python",
   "pygments_lexer": "ipython3",
   "version": "3.11.4"
  }
 },
 "nbformat": 4,
 "nbformat_minor": 5
}
