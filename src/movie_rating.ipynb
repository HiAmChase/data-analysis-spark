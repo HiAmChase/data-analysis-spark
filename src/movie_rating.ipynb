{
 "cells": [
  {
   "cell_type": "code",
   "execution_count": null,
   "id": "06c6f74a-4098-486d-b763-2af34a681707",
   "metadata": {},
   "outputs": [],
   "source": [
    "import pyspark\n",
    "pyspark.__version__"
   ]
  },
  {
   "cell_type": "code",
   "execution_count": null,
   "id": "62b32e4e-e01b-4d76-8684-9d0bec090f83",
   "metadata": {},
   "outputs": [],
   "source": [
    "import json\n",
    "from pyspark.sql import SparkSession\n",
    "from pyspark.sql.functions import *\n",
    "from pyspark.sql.types import *"
   ]
  },
  {
   "cell_type": "code",
   "execution_count": null,
   "id": "4bdf38ab-50d5-41da-ab70-099d84d7ce0a",
   "metadata": {},
   "outputs": [],
   "source": [
    "spark = SparkSession.builder.appName(\"Movie Rating\").getOrCreate()"
   ]
  },
  {
   "cell_type": "markdown",
   "id": "baeab43e-ef00-4b7f-8d94-489fced7bdf2",
   "metadata": {},
   "source": [
    "#### Load and Explore the Data:\n",
    "- Load the movie ratings data into a Spark DataFrame.\n",
    "- Print the schema and the first few rows of the DataFrame."
   ]
  },
  {
   "cell_type": "code",
   "execution_count": null,
   "id": "46ff62a7-ccac-435c-afa1-8063b31b8a69",
   "metadata": {},
   "outputs": [],
   "source": [
    "rating = spark.read.csv(\"../data/movie_ratings.csv\", inferSchema=True, header=True)\n",
    "rating.show(10)\n",
    "rating.printSchema()"
   ]
  },
  {
   "cell_type": "markdown",
   "id": "eadd95dd-9b4c-4675-879c-d7119af193dd",
   "metadata": {},
   "source": [
    "#### Data Cleaning:\n",
    "- Handle any missing or inconsistent data in the dataset.\n",
    "- Convert the timestamp column to a TimestampType."
   ]
  },
  {
   "cell_type": "code",
   "execution_count": null,
   "id": "a2eb4562-a725-434c-8dd7-02a4c1bd93ae",
   "metadata": {},
   "outputs": [],
   "source": [
    "rating = rating.dropna(how=\"any\")"
   ]
  },
  {
   "cell_type": "markdown",
   "id": "914181e3-db95-47c0-9071-bf771298426e",
   "metadata": {},
   "source": [
    "#### Exploratory Data Analysis (EDA):\n",
    "- Calculate and print the total number of ratings in the dataset.\n",
    "- Find and print the average rating given by users.\n",
    "- Identify and print the top 5 movies with the highest average ratings."
   ]
  },
  {
   "cell_type": "code",
   "execution_count": null,
   "id": "fa12d889-577b-4bf5-b152-de8fb797ee9a",
   "metadata": {},
   "outputs": [],
   "source": [
    "# Total number of ratings\n",
    "rating.select(\"*\").count()"
   ]
  },
  {
   "cell_type": "code",
   "execution_count": null,
   "id": "5b7c3a94-2177-4230-bbf4-d28bb9cd6952",
   "metadata": {},
   "outputs": [],
   "source": [
    "# Average rating given by users\n",
    "rating.groupBy(\"userId\").agg(round(avg(col(\"rating\")), 2).alias(\"Average User Rating\")).show()"
   ]
  },
  {
   "cell_type": "code",
   "execution_count": null,
   "id": "03bd17a1-3a0c-43b4-bf11-08f4fc4163b5",
   "metadata": {},
   "outputs": [],
   "source": [
    "# Top 5 movies with the highest average ratings with more than 10 rating\n",
    "rating.groupBy(\"movieId\").agg(round(avg(col(\"rating\")), 2).alias(\"average_movie_rating\")) \\\n",
    "    .where(count(col(\"rating\")) > 10) \\\n",
    "    .orderBy(col(\"average_movie_rating\").desc()) \\\n",
    "    .limit(5) \\\n",
    "    .show()"
   ]
  },
  {
   "cell_type": "markdown",
   "id": "aa12791c-1348-47d8-af4e-3cd98fddf75b",
   "metadata": {},
   "source": [
    "#### SQL Queries:\n",
    "- Register the DataFrame as a temporary SQL table.\n",
    "- Write and execute a SQL query to find the number of ratings given by each user.\n",
    "- Write and execute a SQL query to find the average rating for each movie."
   ]
  },
  {
   "cell_type": "code",
   "execution_count": null,
   "id": "aa2f13a2-babd-466b-a1ed-bc86d3937779",
   "metadata": {},
   "outputs": [],
   "source": [
    "rating.createOrReplaceTempView(\"movie_rating\")"
   ]
  },
  {
   "cell_type": "code",
   "execution_count": null,
   "id": "78bc5ef7-e7ba-4e9b-ab2d-4c9644d65275",
   "metadata": {},
   "outputs": [],
   "source": [
    "# the number of ratings given by each user\n",
    "spark.sql(\"\"\"\n",
    "    select\n",
    "        userId,\n",
    "        count(rating) as numberRating\n",
    "    from movie_rating\n",
    "    group by userId\n",
    "\"\"\").show()"
   ]
  },
  {
   "cell_type": "code",
   "execution_count": null,
   "id": "12300d46-1ce1-4d16-917a-f2b49da03fd4",
   "metadata": {},
   "outputs": [],
   "source": [
    "# the average rating for each movie\n",
    "spark.sql(\"\"\"\n",
    "    select\n",
    "        movieId,\n",
    "        round(avg(rating), 2) as avgRating\n",
    "    from movie_rating\n",
    "    group by movieId\n",
    "\"\"\").show()"
   ]
  },
  {
   "cell_type": "markdown",
   "id": "0ea2251d-f7ee-4bb7-83f0-83f4a8658487",
   "metadata": {},
   "source": [
    "#### Time-based Analysis:\n",
    "- Extract the year and month from the timestamp column.\n",
    "- Calculate and print the total number of ratings for each month.\n",
    "- Identify and print the month with the highest number of ratings."
   ]
  },
  {
   "cell_type": "code",
   "execution_count": null,
   "id": "016ad35d-a15e-4b6a-8cc7-f62ccbfe2b64",
   "metadata": {},
   "outputs": [],
   "source": [
    "rating = rating.withColumn(\"month\", month(from_unixtime(col(\"timestamp\")))) \\\n",
    "    .withColumn(\"year\", year(from_unixtime(col(\"timestamp\"))))"
   ]
  },
  {
   "cell_type": "code",
   "execution_count": null,
   "id": "20491d0b-bd2e-45fb-8ac5-09810e9d5dc2",
   "metadata": {},
   "outputs": [],
   "source": [
    "# Total number of ratings for each month\n",
    "rating.groupBy(\"year\", \"month\").agg(count(col(\"rating\")).alias(\"Number Of Rating\")) \\\n",
    "    .show()"
   ]
  },
  {
   "cell_type": "code",
   "execution_count": null,
   "id": "59e52c5f-c2be-48c2-852f-738636cbea42",
   "metadata": {},
   "outputs": [],
   "source": [
    "# The month with highest number of ratings\n",
    "rating.groupBy(\"year\", \"month\").agg(count(col(\"rating\")).alias(\"Highest Num Of Ratings\")) \\\n",
    "    .orderBy(col(\"Highest Num Of Ratings\").desc()) \\\n",
    "    .limit(1) \\\n",
    "    .show()"
   ]
  },
  {
   "cell_type": "markdown",
   "id": "133acc40-f18a-4e3d-8395-1a7f47dbdd89",
   "metadata": {},
   "source": [
    "#### Join and Transformation:\n",
    "- Load a separate dataset containing movie information (movieId, title, genres).\n",
    "- Join the movie ratings DataFrame with the movie information DataFrame.\n",
    "- Calculate and print the average rating for each genre."
   ]
  },
  {
   "cell_type": "code",
   "execution_count": null,
   "id": "3737bde9-0596-49e3-a13a-d83c5b8deb84",
   "metadata": {},
   "outputs": [],
   "source": [
    "movies = spark.read.csv(\"../data/movies.csv\", inferSchema=True, header=True)\n",
    "movies.show(5)"
   ]
  },
  {
   "cell_type": "code",
   "execution_count": null,
   "id": "0c9679c8-e679-4aa4-8c54-3b7abbcae402",
   "metadata": {},
   "outputs": [],
   "source": [
    "# Only get specific column\n",
    "movies = movies.select(\"id\", \"genres\", \"title\")"
   ]
  },
  {
   "cell_type": "code",
   "execution_count": null,
   "id": "391a5ff9-04a9-48b9-8557-99e2b8187c0d",
   "metadata": {},
   "outputs": [],
   "source": [
    "# Convert format column genres from list json to list string\n",
    "def extract_names_from_genres(genres_str):\n",
    "    genres_list =  json.loads(genres_str)\n",
    "    return [genres.get(\"name\") for genres in genres_list]\n",
    "\n",
    "extract_names_udf = udf(extract_names_from_genres, ArrayType(StringType()))\n",
    "\n",
    "movies = movies.withColumn(\"genres\", extract_names_udf(regexp_replace(col(\"genres\"), lit(\"'\"), lit('\"'))))"
   ]
  },
  {
   "cell_type": "code",
   "execution_count": null,
   "id": "8903dba1-055e-4fa2-bc6c-e539de9593f1",
   "metadata": {},
   "outputs": [],
   "source": [
    "movies.show()"
   ]
  },
  {
   "cell_type": "code",
   "execution_count": null,
   "id": "d9306a47-3cb5-4ab6-a058-c7e1df83a048",
   "metadata": {},
   "outputs": [],
   "source": [
    "movie_rating = rating.join(movies, rating.movieId == movies.id ,\"inner\")"
   ]
  },
  {
   "cell_type": "markdown",
   "id": "dd3fbfbd-5260-4db0-935e-9ef1e29743f2",
   "metadata": {},
   "source": [
    "#### Advanced Analysis:\n",
    "- Implement a custom Spark UDAF (User-Defined Aggregate Function) to calculate the standard deviation of ratings for each movie."
   ]
  },
  {
   "cell_type": "code",
   "execution_count": null,
   "id": "eec5a57d-3796-431f-bc46-fae1565bbaee",
   "metadata": {},
   "outputs": [],
   "source": [
    "class RatingStdDevUDAF(UserDefinedAggregateFunction):\n",
    "    def __init__(self):\n",
    "        self.sums = {}\n",
    "        self.sum_of_squares = {}\n",
    "        self.counts = {}\n",
    "\n",
    "    def input(self, movie_id, rating):\n",
    "        if movie_id is not None and rating is not None:\n",
    "            if movie_id not in self.sums:\n",
    "                self.sums[movie_id] = rating\n",
    "                self.sum_of_squares[movie_id] = rating ** 2\n",
    "                self.counts[movie_id] = 1\n",
    "            else:\n",
    "                self.sums[movie_id] += rating\n",
    "                self.sum_of_squares[movie_id] += rating ** 2\n",
    "                self.counts[movie_id] += 1\n",
    "\n",
    "    def merge(self, other):\n",
    "        for movie_id in other.sums.keys():\n",
    "            if movie_id in self.sums:\n",
    "                self.sums[movie_id] += other.sums[movie_id]\n",
    "                self.sum_of_squares[movie_id] += other.sum_of_squares[movie_id]\n",
    "                self.counts[movie_id] += other.counts[movie_id]\n",
    "            else:\n",
    "                self.sums[movie_id] = other.sums[movie_id]\n",
    "                self.sum_of_squares[movie_id] = other.sum_of_squares[movie_id]\n",
    "                self.counts[movie_id] = other.counts[movie_id]\n",
    "    \n",
    "    def evaluate(self, movie_id):\n",
    "        if movie_id in self.sums:\n",
    "            mean = self.sums[movie_id] / self.counts[movie_id]\n",
    "            variance = (self.sums_of_squares[movie_id] / self.counts[movie_id]) - (mean ** 2)\n",
    "            return (variance ** 0.5) if variance >= 0 else None\n",
    "        else:\n",
    "            return None\n",
    "\n",
    "rating_std_dev_udaf = RatingStdDevUDAF()\n",
    "\n",
    "rating.groupBy(\"movieId\").agg(rating_std_dev_udaf(col(\"movieId\"), col(\"rating\"))).show()"
   ]
  }
 ],
 "metadata": {
  "kernelspec": {
   "display_name": "Python 3 (ipykernel)",
   "language": "python",
   "name": "python3"
  },
  "language_info": {
   "codemirror_mode": {
    "name": "ipython",
    "version": 3
   },
   "file_extension": ".py",
   "mimetype": "text/x-python",
   "name": "python",
   "nbconvert_exporter": "python",
   "pygments_lexer": "ipython3",
   "version": "3.11.4"
  }
 },
 "nbformat": 4,
 "nbformat_minor": 5
}
