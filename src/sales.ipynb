{
 "cells": [
  {
   "cell_type": "code",
   "execution_count": null,
   "id": "28ff0705-2d65-432d-9b77-366367b845da",
   "metadata": {},
   "outputs": [],
   "source": [
    "import findspark\n",
    "findspark.init()"
   ]
  },
  {
   "cell_type": "code",
   "execution_count": null,
   "id": "87b6ded9-6f53-4ddf-aaee-057185f2fe7e",
   "metadata": {},
   "outputs": [],
   "source": [
    "from pyspark.sql import SparkSession\n",
    "from pyspark.sql.functions import *\n",
    "from pyspark.sql.types import DateType, DoubleType"
   ]
  },
  {
   "cell_type": "code",
   "execution_count": null,
   "id": "f46c3f34-fedf-4c1f-858c-407632c8739e",
   "metadata": {},
   "outputs": [],
   "source": [
    "spark = SparkSession.builder.appName(\"Sales Analytics\").getOrCreate()"
   ]
  },
  {
   "cell_type": "code",
   "execution_count": null,
   "id": "9c10c56c-a617-4211-a6af-f136b7a9a0a3",
   "metadata": {},
   "outputs": [],
   "source": [
    "columns = [\"ORDERNUMBER\", \"QUANTITYORDERED\", \"PRICEEACH\", \"ORDERDATE\", \"PRODUCTLINE\", \"PRODUCTCODE\"] # Only get specific column\n",
    "sales = spark.read.csv(\"../data/sales_data_sample.csv\", inferSchema=True, header=True)\n",
    "sales = sales.select([col for col in columns])"
   ]
  },
  {
   "cell_type": "code",
   "execution_count": null,
   "id": "45813365-5b47-45dd-ae7d-e705f58a6b74",
   "metadata": {},
   "outputs": [],
   "source": [
    "# Rename Column\n",
    "rename_lst = [\n",
    "    (\"ORDERNUMBER\", \"order_number\"),\n",
    "    (\"QUANTITYORDERED\", \"quantity\"),\n",
    "    (\"PRICEEACH\", \"price\"),\n",
    "    (\"ORDERDATE\", \"order_date\"),\n",
    "    (\"PRODUCTLINE\", \"product_line\"),\n",
    "    (\"PRODUCTCODE\", \"product_code\")\n",
    "]\n",
    "for old_name, new_name in rename_lst:\n",
    "    sales = sales.withColumnRenamed(old_name, new_name)"
   ]
  },
  {
   "cell_type": "markdown",
   "id": "b0db5d1a-bd1d-454b-b164-e23453579989",
   "metadata": {},
   "source": [
    "#### Print the schema and the first few rows of the DataFrame"
   ]
  },
  {
   "cell_type": "code",
   "execution_count": null,
   "id": "a33adda2-5eab-43b3-a265-7dc2ecb473a9",
   "metadata": {
    "scrolled": true
   },
   "outputs": [],
   "source": [
    "sales.printSchema()\n",
    "sales.show(10)"
   ]
  },
  {
   "cell_type": "markdown",
   "id": "da90e6a2-548b-4a7c-ae95-aaf2617c7606",
   "metadata": {},
   "source": [
    "#### Data Cleaning\n",
    "- Handle any missing or inconsistent data in the dataset\n",
    "- Convert the order_date column to a DateType"
   ]
  },
  {
   "cell_type": "code",
   "execution_count": null,
   "id": "09cdcdfb-1b59-464c-96d8-54a77e988400",
   "metadata": {},
   "outputs": [],
   "source": [
    "sales = sales.dropna(how=\"any\")\n",
    "sales = sales.withColumn(\"order_date\", to_date(col(\"order_date\"), \"M/d/yyyy H:mm\"))"
   ]
  },
  {
   "cell_type": "code",
   "execution_count": null,
   "id": "feadd8cb-c110-4e80-a94d-ced9e9c489bf",
   "metadata": {},
   "outputs": [],
   "source": [
    "sales.show()"
   ]
  },
  {
   "cell_type": "markdown",
   "id": "9049164e-c5be-4502-b1dd-c21a8ff0acd5",
   "metadata": {},
   "source": [
    "#### Exploratory Data Analysis (EDA)\n",
    "- Compute and print the total number of transactions.\n",
    "- Find and print the top 5 products with the highest total sales (quantity * price).\n",
    "- Calculate and print the average quantity sold per transaction."
   ]
  },
  {
   "cell_type": "code",
   "execution_count": null,
   "id": "033e79e7-6ef4-4786-9f10-94cad3e59d98",
   "metadata": {},
   "outputs": [],
   "source": [
    "# total number of transactions\n",
    "sales.select(\"order_number\").distinct().count()"
   ]
  },
  {
   "cell_type": "code",
   "execution_count": null,
   "id": "610e18a0-f73c-47b4-a491-ca740f193452",
   "metadata": {},
   "outputs": [],
   "source": [
    "# top 5 products with the highest total sales\n",
    "sales.groupBy(\"product_code\") \\\n",
    "    .agg(sum(col(\"quantity\") * col(\"price\")).alias(\"Total Sales\")) \\\n",
    "    .orderBy(col(\"Total Sales\").desc()).limit(5).show()"
   ]
  },
  {
   "cell_type": "code",
   "execution_count": null,
   "id": "eb4eae5e-8217-4625-b01b-ca1586592620",
   "metadata": {},
   "outputs": [],
   "source": [
    "# average quantity sold per transaction\n",
    "sales.groupBy(\"product_code\").agg(avg(col(\"quantity\")).alias(\"Average Quantity\")).show()"
   ]
  },
  {
   "cell_type": "markdown",
   "id": "6011dbc1-a565-4287-824d-51fb66709093",
   "metadata": {},
   "source": [
    "#### Time-based Analysis\n",
    "- Extract the year and month from the order.\n",
    "- Compute and print the total sales for each month.\n",
    "- Identify and print the month with the highest sales"
   ]
  },
  {
   "cell_type": "code",
   "execution_count": null,
   "id": "7cbfd9b8-151c-4b1e-99dc-c1734d0accf3",
   "metadata": {},
   "outputs": [],
   "source": [
    "# Extract the year and month from the order_date\n",
    "sales = sales.withColumn(\"year\", year(col(\"order_date\").alias(\"Year\"))) \\\n",
    "    .withColumn(\"month\", month(col(\"order_date\").alias(\"Month\")))"
   ]
  },
  {
   "cell_type": "code",
   "execution_count": null,
   "id": "b5735e80-4c11-4e1e-8d03-951d42996f15",
   "metadata": {},
   "outputs": [],
   "source": [
    "# Total sales for each month\n",
    "sales.groupBy(\"Year\", \"Month\").agg(sum(col(\"quantity\") * col(\"price\")).alias(\"Total Sales In Month\")).show()"
   ]
  },
  {
   "cell_type": "code",
   "execution_count": null,
   "id": "4e55c085-0a3b-456a-b32a-ffee07bc7cf7",
   "metadata": {},
   "outputs": [],
   "source": [
    "# the month with the highest sales\n",
    "sales.groupBy(\"Year\", \"Month\"). \\\n",
    "    agg(sum(col(\"quantity\") * col(\"price\")).alias(\"Total Sales In Month\")). \\\n",
    "    orderBy(col(\"Total Sales In Month\").desc()).limit(1).show()"
   ]
  },
  {
   "cell_type": "markdown",
   "id": "b5508501-fe62-4342-94ee-0ae813fe2fd7",
   "metadata": {},
   "source": [
    "#### Aggregate Functions\n",
    "- Calculate the total revenue generated from sales.\n",
    "- Find the product with the highest average price"
   ]
  },
  {
   "cell_type": "code",
   "execution_count": null,
   "id": "edd3b3db-205b-4438-9fa3-03710355eaeb",
   "metadata": {},
   "outputs": [],
   "source": [
    "# Total revenue\n",
    "sales.select(sum(col(\"quantity\") * col(\"price\")).alias(\"Total Revenue\")).show()"
   ]
  },
  {
   "cell_type": "code",
   "execution_count": null,
   "id": "c9bc4173-dce5-4fc3-b630-0ae56e8d727c",
   "metadata": {},
   "outputs": [],
   "source": [
    "# the product with the highest average price\n",
    "sales.groupBy(\"product_code\"). \\\n",
    "    agg(avg(col(\"price\")).alias(\"Average Price\")). \\\n",
    "    orderBy(col(\"Average Price\").desc()).limit(1).show()"
   ]
  },
  {
   "cell_type": "markdown",
   "id": "d8a8d0af-8a7b-4db4-adba-4ab064aa5c85",
   "metadata": {},
   "source": [
    "#### Advanced Analysis\n",
    "- Implement a custom Spark UDF to calculate the discounted price for each product (assume a 10% discount).\n",
    "- Compute and print the total discounted revenue.\n"
   ]
  },
  {
   "cell_type": "code",
   "execution_count": null,
   "id": "ec2b20db-d0a4-4aee-b4db-8fe0142f1dac",
   "metadata": {},
   "outputs": [],
   "source": [
    "price_with_discount = udf(lambda price: price * 0.9, DoubleType())\n",
    "sales = sales.withColumn(\"price_with_discount\", price_with_discount(col(\"price\")))"
   ]
  },
  {
   "cell_type": "code",
   "execution_count": null,
   "id": "3f68d178-1eb3-4757-93f4-2f840cc447d4",
   "metadata": {},
   "outputs": [],
   "source": [
    "sales.select(\n",
    "    sum(col(\"price\") * col(\"quantity\")).alias(\"Total Revenue\"),\n",
    "    sum(col(\"price_with_discount\") * col(\"quantity\")).alias(\"Total Revenue with discount\")\n",
    ").show()"
   ]
  },
  {
   "cell_type": "code",
   "execution_count": null,
   "id": "47c28997-7e4a-4af0-adea-736e11214a42",
   "metadata": {},
   "outputs": [],
   "source": [
    "spark.stop()"
   ]
  }
 ],
 "metadata": {
  "kernelspec": {
   "display_name": "Python 3 (ipykernel)",
   "language": "python",
   "name": "python3"
  },
  "language_info": {
   "codemirror_mode": {
    "name": "ipython",
    "version": 3
   },
   "file_extension": ".py",
   "mimetype": "text/x-python",
   "name": "python",
   "nbconvert_exporter": "python",
   "pygments_lexer": "ipython3",
   "version": "3.11.4"
  }
 },
 "nbformat": 4,
 "nbformat_minor": 5
}
