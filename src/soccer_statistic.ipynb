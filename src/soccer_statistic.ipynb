{
 "cells": [
  {
   "cell_type": "code",
   "execution_count": 1,
   "id": "fb73279d-2ab1-45a3-a229-d7b3f9b2cf80",
   "metadata": {},
   "outputs": [],
   "source": [
    "from pyspark.sql import SparkSession, Window, Row\n",
    "from pyspark.sql.functions import *\n",
    "from pyspark.sql.types import *\n",
    "import matplotlib.pyplot as plt"
   ]
  },
  {
   "cell_type": "code",
   "execution_count": 2,
   "id": "5ab68158-b001-4d68-bfcf-632faba00fcc",
   "metadata": {},
   "outputs": [
    {
     "name": "stderr",
     "output_type": "stream",
     "text": [
      "23/11/05 19:34:42 WARN SparkSession: Using an existing Spark session; only runtime SQL configurations will take effect.\n"
     ]
    }
   ],
   "source": [
    "spark = SparkSession.builder.appName(\"Soccer Statistic\").getOrCreate()"
   ]
  },
  {
   "cell_type": "code",
   "execution_count": 3,
   "id": "51d97066-9161-44e7-bcad-dd6c03eaa959",
   "metadata": {},
   "outputs": [
    {
     "name": "stderr",
     "output_type": "stream",
     "text": [
      "                                                                                \r"
     ]
    },
    {
     "name": "stdout",
     "output_type": "stream",
     "text": [
      "+--------+---+------+----------+------------------+--------------+----+----+---+\n",
      "|Match_ID|Div|Season|      Date|          HomeTeam|      AwayTeam|FTHG|FTAG|FTR|\n",
      "+--------+---+------+----------+------------------+--------------+----+----+---+\n",
      "|       1| D2|  2009|2010-04-04|        Oberhausen|Kaiserslautern|   2|   1|  H|\n",
      "|       2| D2|  2009|2009-11-01|       Munich 1860|Kaiserslautern|   0|   1|  A|\n",
      "|       3| D2|  2009|2009-10-04|     Frankfurt FSV|Kaiserslautern|   1|   1|  D|\n",
      "|       4| D2|  2009|2010-02-21|     Frankfurt FSV|     Karlsruhe|   2|   1|  H|\n",
      "|       5| D2|  2009|2009-12-06|             Ahlen|     Karlsruhe|   1|   3|  A|\n",
      "|       6| D2|  2009|2010-04-03|      Union Berlin|     Karlsruhe|   1|   1|  D|\n",
      "|       7| D2|  2009|2009-08-14|         Paderborn|     Karlsruhe|   2|   0|  H|\n",
      "|       8| D2|  2009|2010-03-08|         Bielefeld|     Karlsruhe|   0|   1|  A|\n",
      "|       9| D2|  2009|2009-09-26|    Kaiserslautern|     Karlsruhe|   2|   0|  H|\n",
      "|      10| D2|  2009|2009-11-21|     Hansa Rostock|     Karlsruhe|   2|   1|  H|\n",
      "|      11| D2|  2009|2009-12-19|    Greuther Furth|     Karlsruhe|   1|   4|  A|\n",
      "|      12| D2|  2009|2010-04-16|           Koblenz|     Karlsruhe|   2|   2|  D|\n",
      "|      13| D2|  2009|2010-03-21|        Oberhausen|     Karlsruhe|   1|   0|  H|\n",
      "|      14| D2|  2009|2009-09-14|           Cottbus|     Karlsruhe|   2|   4|  A|\n",
      "|      15| D2|  2009|2010-05-02|          Duisburg|     Karlsruhe|   0|   1|  A|\n",
      "|      16| D2|  2009|2009-10-30|Fortuna Dusseldorf|     Karlsruhe|   1|   0|  H|\n",
      "|      17| D2|  2009|2010-01-15|            Aachen|     Karlsruhe|   3|   1|  H|\n",
      "|      18| D2|  2009|2009-10-18|          Augsburg|     Karlsruhe|   1|   1|  D|\n",
      "|      19| D2|  2009|2010-02-05|          St Pauli|     Karlsruhe|   2|   1|  H|\n",
      "|      20| D2|  2009|2009-08-24|       Munich 1860|     Karlsruhe|   1|   3|  A|\n",
      "+--------+---+------+----------+------------------+--------------+----+----+---+\n",
      "only showing top 20 rows\n",
      "\n"
     ]
    }
   ],
   "source": [
    "df_matches = spark.read.csv(\"data/matches.csv\", inferSchema=True, header=True)\n",
    "df_matches.show()"
   ]
  },
  {
   "cell_type": "code",
   "execution_count": 4,
   "id": "50a85dda-a96b-4536-ad9d-f03a9f520910",
   "metadata": {},
   "outputs": [
    {
     "name": "stdout",
     "output_type": "stream",
     "text": [
      "+--------+---+------+----------+------------------+--------------+-------------+-------------+-----------+\n",
      "|Match_ID|Div|Season|      Date|          HomeTeam|      AwayTeam|HomeTeamGoals|AwayTeamGoals|FinalResult|\n",
      "+--------+---+------+----------+------------------+--------------+-------------+-------------+-----------+\n",
      "|       1| D2|  2009|2010-04-04|        Oberhausen|Kaiserslautern|            2|            1|          H|\n",
      "|       2| D2|  2009|2009-11-01|       Munich 1860|Kaiserslautern|            0|            1|          A|\n",
      "|       3| D2|  2009|2009-10-04|     Frankfurt FSV|Kaiserslautern|            1|            1|          D|\n",
      "|       4| D2|  2009|2010-02-21|     Frankfurt FSV|     Karlsruhe|            2|            1|          H|\n",
      "|       5| D2|  2009|2009-12-06|             Ahlen|     Karlsruhe|            1|            3|          A|\n",
      "|       6| D2|  2009|2010-04-03|      Union Berlin|     Karlsruhe|            1|            1|          D|\n",
      "|       7| D2|  2009|2009-08-14|         Paderborn|     Karlsruhe|            2|            0|          H|\n",
      "|       8| D2|  2009|2010-03-08|         Bielefeld|     Karlsruhe|            0|            1|          A|\n",
      "|       9| D2|  2009|2009-09-26|    Kaiserslautern|     Karlsruhe|            2|            0|          H|\n",
      "|      10| D2|  2009|2009-11-21|     Hansa Rostock|     Karlsruhe|            2|            1|          H|\n",
      "|      11| D2|  2009|2009-12-19|    Greuther Furth|     Karlsruhe|            1|            4|          A|\n",
      "|      12| D2|  2009|2010-04-16|           Koblenz|     Karlsruhe|            2|            2|          D|\n",
      "|      13| D2|  2009|2010-03-21|        Oberhausen|     Karlsruhe|            1|            0|          H|\n",
      "|      14| D2|  2009|2009-09-14|           Cottbus|     Karlsruhe|            2|            4|          A|\n",
      "|      15| D2|  2009|2010-05-02|          Duisburg|     Karlsruhe|            0|            1|          A|\n",
      "|      16| D2|  2009|2009-10-30|Fortuna Dusseldorf|     Karlsruhe|            1|            0|          H|\n",
      "|      17| D2|  2009|2010-01-15|            Aachen|     Karlsruhe|            3|            1|          H|\n",
      "|      18| D2|  2009|2009-10-18|          Augsburg|     Karlsruhe|            1|            1|          D|\n",
      "|      19| D2|  2009|2010-02-05|          St Pauli|     Karlsruhe|            2|            1|          H|\n",
      "|      20| D2|  2009|2009-08-24|       Munich 1860|     Karlsruhe|            1|            3|          A|\n",
      "+--------+---+------+----------+------------------+--------------+-------------+-------------+-----------+\n",
      "only showing top 20 rows\n",
      "\n"
     ]
    }
   ],
   "source": [
    "# Rename column:\n",
    "# FTHG --> HomeTeamGoals\n",
    "# FTAG --> AwayTeamGoals\n",
    "# FTR  --> FinalResult\n",
    "\n",
    "old_cols = [\"FTHG\", \"FTAG\", \"FTR\"]\n",
    "new_cols = [\"HomeTeamGoals\", \"AwayTeamGoals\", \"FinalResult\"]\n",
    "old_new_cols = [*zip(old_cols, new_cols)]\n",
    "for old_cols, new_cols in old_new_cols:\n",
    "    df_matches = df_matches.withColumnRenamed(old_cols, new_cols)\n",
    "\n",
    "df_matches.show()"
   ]
  },
  {
   "cell_type": "markdown",
   "id": "3b019dcc-c417-4f27-a2c3-ca1b236d481b",
   "metadata": {},
   "source": [
    "<h4>Question: Who are the winners of the D1 division in the Germany \n",
    "    Football Association (Bundesliga) between 2000–2010</h4>"
   ]
  },
  {
   "cell_type": "code",
   "execution_count": 5,
   "id": "64502864-8607-4cf5-ac4d-6890a220627c",
   "metadata": {},
   "outputs": [],
   "source": [
    "# Mapping match result to depend on 'FinalResult' to 3 new columns: HomeTeamWin, AwayTeamWin, GameTie\n",
    "df_matches = df_matches \\\n",
    ".withColumn(\"HomeTeamWin\", when(col(\"FinalResult\") == \"H\", 1).otherwise(0)) \\\n",
    ".withColumn(\"AwayTeamWin\", when(col(\"FinalResult\") == \"A\", 1).otherwise(0)) \\\n",
    ".withColumn(\"GameTie\", when(col(\"FinalResult\") == \"D\", 1).otherwise(0))"
   ]
  },
  {
   "cell_type": "code",
   "execution_count": 6,
   "id": "bab0bf70-5f48-4388-a3f9-b9e1c89749c2",
   "metadata": {},
   "outputs": [],
   "source": [
    "# Filter D1 division and season from 2000 - 2010\n",
    "bundesliga = df_matches.filter(\n",
    "    (col(\"Div\") == \"D1\") & \n",
    "    (col(\"Season\") >= 2000) & \n",
    "    (col(\"Season\") <= 2010)\n",
    ")"
   ]
  },
  {
   "cell_type": "code",
   "execution_count": 83,
   "id": "c4e1edc7-cd6f-4297-87f0-1119cb85c116",
   "metadata": {},
   "outputs": [
    {
     "name": "stdout",
     "output_type": "stream",
     "text": [
      "+--------+---+------+----------+-------------+----------+-------------+-------------+-----------+-----------+-----------+-------+\n",
      "|Match_ID|Div|Season|      Date|     HomeTeam|  AwayTeam|HomeTeamGoals|AwayTeamGoals|FinalResult|HomeTeamWin|AwayTeamWin|GameTie|\n",
      "+--------+---+------+----------+-------------+----------+-------------+-------------+-----------+-----------+-----------+-------+\n",
      "|      21| D1|  2009|2010-02-06|       Bochum|Leverkusen|            1|            1|          D|          0|          0|      1|\n",
      "|      22| D1|  2009|2009-11-22|Bayern Munich|Leverkusen|            1|            1|          D|          0|          0|      1|\n",
      "|      23| D1|  2009|2010-05-08|   M'gladbach|Leverkusen|            1|            1|          D|          0|          0|      1|\n",
      "|      24| D1|  2009|2009-08-08|        Mainz|Leverkusen|            2|            2|          D|          0|          0|      1|\n",
      "|      25| D1|  2009|2009-10-17|      Hamburg|Leverkusen|            0|            0|          D|          0|          0|      1|\n",
      "|      26| D1|  2009|2010-04-17|    Stuttgart|Leverkusen|            2|            1|          H|          1|          0|      0|\n",
      "|      27| D1|  2009|2010-03-20|     Dortmund|Leverkusen|            3|            0|          H|          1|          0|      0|\n",
      "|      28| D1|  2009|2009-10-31|   Schalke 04|Leverkusen|            2|            2|          D|          0|          0|      1|\n",
      "|      29| D1|  2009|2009-08-22|     Freiburg|Leverkusen|            0|            5|          A|          0|          1|      0|\n",
      "|      30| D1|  2009|2010-02-21|Werder Bremen|Leverkusen|            2|            2|          D|          0|          0|      1|\n",
      "|      31| D1|  2009|2009-12-11|       Hertha|Leverkusen|            2|            2|          D|          0|          0|      1|\n",
      "|      32| D1|  2009|2009-12-05|     Hannover|Leverkusen|            0|            0|          D|          0|          0|      1|\n",
      "|      33| D1|  2009|2010-04-03|Ein Frankfurt|Leverkusen|            3|            2|          H|          1|          0|      0|\n",
      "|      34| D1|  2009|2009-09-12|    Wolfsburg|Leverkusen|            2|            3|          A|          0|          1|      0|\n",
      "|      35| D1|  2009|2010-01-24|   Hoffenheim|Leverkusen|            0|            3|          A|          0|          1|      0|\n",
      "|      36| D1|  2009|2009-09-26|      FC Koln|Leverkusen|            0|            1|          A|          0|          1|      0|\n",
      "|      37| D1|  2009|2010-03-07|     Nurnberg|Leverkusen|            3|            2|          H|          1|          0|      0|\n",
      "|      38| D1|  2009|2009-11-21|    Wolfsburg|  Nurnberg|            2|            3|          A|          0|          1|      0|\n",
      "|      39| D1|  2009|2009-12-05|     Dortmund|  Nurnberg|            4|            0|          H|          1|          0|      0|\n",
      "|      40| D1|  2009|2010-04-17|     Freiburg|  Nurnberg|            2|            1|          H|          1|          0|      0|\n",
      "+--------+---+------+----------+-------------+----------+-------------+-------------+-----------+-----------+-----------+-------+\n",
      "only showing top 20 rows\n",
      "\n"
     ]
    }
   ],
   "source": [
    "bundesliga.show()"
   ]
  },
  {
   "cell_type": "code",
   "execution_count": 7,
   "id": "9b30b720-487c-4e2f-beeb-c990ee3502f6",
   "metadata": {},
   "outputs": [],
   "source": [
    "# home team features\n",
    "home = bundesliga.groupBy(\"Season\", \"HomeTeam\") \\\n",
    ".agg(\n",
    "    sum(\"HomeTeamWin\").alias(\"TotalHomeWin\"),\n",
    "    sum(\"AwayTeamWin\").alias(\"TotalHomeLoss\"),\n",
    "    sum(\"GameTie\").alias(\"TotalHomeTie\"),\n",
    "    sum(\"HomeTeamGoals\").alias(\"HomeScoreGoals\"),\n",
    "    sum(\"AwayTeamGoals\").alias(\"HomeAgainstGoals\")\n",
    ").withColumnRenamed(\"HomeTeam\", \"Team\")\n",
    "\n",
    "# away team features\n",
    "away = bundesliga.groupBy(\"Season\", \"AwayTeam\") \\\n",
    ".agg(\n",
    "    sum(\"AwayTeamWin\").alias(\"TotalAwayWin\"),\n",
    "    sum(\"HomeTeamWin\").alias(\"TotalAwayLoss\"),\n",
    "    sum(\"GameTie\").alias(\"TotalAwayTie\"),\n",
    "    sum(\"AwayTeamGoals\").alias(\"AwayScoreGoals\"),\n",
    "    sum(\"HomeTeamGoals\").alias(\"AwayAgainstGoals\")\n",
    ").withColumnRenamed(\"AwayTeam\", \"Team\")"
   ]
  },
  {
   "cell_type": "code",
   "execution_count": 8,
   "id": "2567c7c4-9ab7-4e78-a692-eedb1200b2e9",
   "metadata": {},
   "outputs": [],
   "source": [
    "window = Window.partitionBy([\"Season\"]).orderBy(col(\"Points\").desc(), col(\"GoalDifferentials\").desc())\n",
    "teams_result = home.join(away, [\"Team\", \"Season\"], \"inner\") \\\n",
    ".withColumn(\"Win\", col(\"TotalHomeWin\") + col(\"TotalAwayWin\")) \\\n",
    ".withColumn(\"Tie\", col(\"TotalHomeTie\") + col(\"TotalAwayTie\")) \\\n",
    ".withColumn(\"Loss\", col(\"TotalHomeLoss\") + col(\"TotalAwayLoss\")) \\\n",
    ".withColumn(\"Points\", col(\"Win\") * 3 + col(\"Tie\")) \\\n",
    ".withColumn(\"WinPct\", round(col(\"Win\") / (col(\"Win\") + col(\"Tie\") + col(\"Loss\")) * 100, 2)) \\\n",
    ".withColumn(\"GoalsScored\", col(\"HomeScoreGoals\") + col(\"AwayScoreGoals\")) \\\n",
    ".withColumn(\"GoalsAgainst\", col(\"HomeAgainstGoals\") + col(\"AwayAgainstGoals\")) \\\n",
    ".withColumn(\"GoalDifferentials\", col(\"GoalsScored\") - col(\"GoalsAgainst\")) \\\n",
    ".drop(\"TotalHomeWin\", \"TotalHomeLoss\", \"TotalHomeTie\", \"HomeScoreGoals\", \"HomeAgainstGoals\") \\\n",
    ".drop(\"TotalAwayWin\", \"TotalAwayLoss\", \"TotalAwayTie\", \"AwayScoreGoals\", \"AwayAgainstGoals\") \\\n",
    ".withColumn(\"TeamPosition\", rank().over(window))"
   ]
  },
  {
   "cell_type": "code",
   "execution_count": null,
   "id": "51f1a1af-59eb-4c2d-b6d8-acb0229a7b3e",
   "metadata": {},
   "outputs": [],
   "source": [
    "sql = \"\"\"\n",
    "    with league as (\n",
    "    \tselect\n",
    "    \t\t*\n",
    "    \tfrom \"match\"\n",
    "    \twhere division = 'D1' and season >= '2000' and season <= '2010'\n",
    "    ), home_result as (\n",
    "    \tselect\n",
    "    \t\thome_team as team,\n",
    "    \t\tseason,\n",
    "    \t\tsum(home_team_goals) as total_team_goals,\n",
    "    \t\tsum(away_team_goals) as total_against_goals,\n",
    "    \t\tsum(CASE WHEN final_result = 'H' THEN 1 ELSE 0 END) AS team_win,\n",
    "    \t\tSUM(CASE WHEN final_result = 'A' THEN 1 ELSE 0 END) AS team_loss,\n",
    "    \t\tSUM(CASE WHEN final_result = 'D' THEN 1 ELSE 0 END) AS game_tie\n",
    "    \tfrom league b1\n",
    "    \tgroup by home_team, season\n",
    "    ), away_result as (\n",
    "    \tselect\n",
    "    \t\taway_team as team,\n",
    "    \t\tseason,\n",
    "    \t\tsum(home_team_goals) as total_against_goals,\n",
    "    \t\tsum(away_team_goals) as total_team_goals,\n",
    "    \t\tsum(CASE WHEN final_result = 'H' THEN 1 ELSE 0 END) AS team_loss,\n",
    "    \t\tSUM(CASE WHEN final_result = 'A' THEN 1 ELSE 0 END) AS team_win,\n",
    "    \t\tSUM(CASE WHEN final_result = 'D' THEN 1 ELSE 0 END) AS game_tie\n",
    "    \tfrom league b1\n",
    "    \tgroup by away_team, season\n",
    "    )\n",
    "    select\n",
    "    \thr.team,\n",
    "    \thr.season,\n",
    "    \thr.team_win + ar.team_win as total_win,\n",
    "    \thr.team_loss + ar.team_loss as total_loss,\n",
    "    \thr.game_tie + ar.game_tie as total_draw,\n",
    "    \thr.total_team_goals + ar.total_team_goals as total_goals,\n",
    "    \thr.total_against_goals + ar.total_against_goals as total_loss_goals,\n",
    "    \thr.total_team_goals + ar.total_team_goals - (hr.total_against_goals + ar.total_against_goals) as goals_difference,\n",
    "    \t(hr.team_win + ar.team_win) * 3 + (hr.game_tie + ar.game_tie) as points,\n",
    "    \trank() over (\n",
    "    \t\tpartition by hr.season\n",
    "    \t\torder by (hr.team_win + ar.team_win) * 3 + (hr.game_tie + ar.game_tie) desc,\n",
    "    \t\thr.total_team_goals + ar.total_team_goals - (hr.total_against_goals + ar.total_against_goals) asc\n",
    "    \t) as position\n",
    "    from home_result hr\n",
    "    inner join away_result ar on hr.team = ar.team and hr.season = ar.season\n",
    "    order by season asc\n",
    "\"\"\""
   ]
  },
  {
   "cell_type": "code",
   "execution_count": 88,
   "id": "22bda888-9800-45b7-8d78-f0dc0f7075af",
   "metadata": {},
   "outputs": [
    {
     "name": "stdout",
     "output_type": "stream",
     "text": [
      "+-------------+------+---+---+----+------+------+-----------+------------+-----------------+------------+\n",
      "|         Team|Season|Win|Tie|Loss|Points|WinPct|GoalsScored|GoalsAgainst|GoalDifferentials|TeamPosition|\n",
      "+-------------+------+---+---+----+------+------+-----------+------------+-----------------+------------+\n",
      "|Bayern Munich|  2000| 19|  6|   9|    63| 55.88|         62|          37|               25|           1|\n",
      "|     Dortmund|  2001| 21|  7|   6|    70| 61.76|         62|          33|               29|           1|\n",
      "|Bayern Munich|  2002| 23|  6|   5|    75| 67.65|         70|          25|               45|           1|\n",
      "|Werder Bremen|  2003| 22|  8|   4|    74| 64.71|         79|          38|               41|           1|\n",
      "|Bayern Munich|  2004| 24|  5|   5|    77| 70.59|         75|          33|               42|           1|\n",
      "|Bayern Munich|  2005| 22|  9|   3|    75| 64.71|         67|          32|               35|           1|\n",
      "|    Stuttgart|  2006| 21|  7|   6|    70| 61.76|         61|          37|               24|           1|\n",
      "|Bayern Munich|  2007| 22| 10|   2|    76| 64.71|         68|          21|               47|           1|\n",
      "|    Wolfsburg|  2008| 21|  6|   7|    69| 61.76|         80|          41|               39|           1|\n",
      "|Bayern Munich|  2009| 20| 10|   4|    70| 58.82|         72|          31|               41|           1|\n",
      "|     Dortmund|  2010| 23|  6|   5|    75| 67.65|         67|          22|               45|           1|\n",
      "+-------------+------+---+---+----+------+------+-----------+------------+-----------------+------------+\n",
      "\n"
     ]
    }
   ],
   "source": [
    "result = teams_result.where(col(\"TeamPosition\") == 1).orderBy(col(\"Season\").asc())\n",
    "result.show()"
   ]
  },
  {
   "cell_type": "markdown",
   "id": "780e8f5a-27ef-4370-86b8-51ca061aabe7",
   "metadata": {},
   "source": [
    "<h4>Question: Which teams have been relegated in the past 10 years</h4>"
   ]
  },
  {
   "cell_type": "code",
   "execution_count": 39,
   "id": "e6ea53a7-f52c-415e-8661-bf486179b75b",
   "metadata": {},
   "outputs": [
    {
     "name": "stdout",
     "output_type": "stream",
     "text": [
      "+--------------+\n",
      "| RelegatedTeam|\n",
      "+--------------+\n",
      "|         Mainz|\n",
      "|Kaiserslautern|\n",
      "|      Nurnberg|\n",
      "|        Bochum|\n",
      "|        Hertha|\n",
      "|  Unterhaching|\n",
      "|     Bielefeld|\n",
      "|       Cottbus|\n",
      "|       FC Koln|\n",
      "|      Freiburg|\n",
      "| Ein Frankfurt|\n",
      "|      Duisburg|\n",
      "|      St Pauli|\n",
      "|   Munich 1860|\n",
      "|        Aachen|\n",
      "|     Karlsruhe|\n",
      "|    M'gladbach|\n",
      "| Hansa Rostock|\n",
      "+--------------+\n",
      "\n"
     ]
    }
   ],
   "source": [
    "relegated_teams = teams_result.select(\"Team\").where(col(\"TeamPosition\") >= 16).distinct().withColumnRenamed(\"Team\", \"RelegatedTeam\")\n",
    "relegated_teams.show()"
   ]
  }
 ],
 "metadata": {
  "kernelspec": {
   "display_name": "Python 3 (ipykernel)",
   "language": "python",
   "name": "python3"
  },
  "language_info": {
   "codemirror_mode": {
    "name": "ipython",
    "version": 3
   },
   "file_extension": ".py",
   "mimetype": "text/x-python",
   "name": "python",
   "nbconvert_exporter": "python",
   "pygments_lexer": "ipython3",
   "version": "3.11.4"
  }
 },
 "nbformat": 4,
 "nbformat_minor": 5
}
